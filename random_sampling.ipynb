{
  "nbformat": 4,
  "nbformat_minor": 0,
  "metadata": {
    "colab": {
      "name": "random_sampling.ipynb",
      "provenance": [],
      "collapsed_sections": [],
      "authorship_tag": "ABX9TyPDkpJShfgA6+PkGsH3mGLG",
      "include_colab_link": true
    },
    "kernelspec": {
      "name": "python3",
      "display_name": "Python 3"
    },
    "language_info": {
      "name": "python"
    }
  },
  "cells": [
    {
      "cell_type": "markdown",
      "metadata": {
        "id": "view-in-github",
        "colab_type": "text"
      },
      "source": [
        "<a href=\"https://colab.research.google.com/github/alexchen1999/covid-19-sample-strain-classification/blob/main/random_sampling.ipynb\" target=\"_parent\"><img src=\"https://colab.research.google.com/assets/colab-badge.svg\" alt=\"Open In Colab\"/></a>"
      ]
    },
    {
      "cell_type": "code",
      "source": [
        "!pip install Bio\n",
        "!pip install bcbio-gff\n",
        "!pip install ncbi-acc-download"
      ],
      "metadata": {
        "colab": {
          "base_uri": "https://localhost:8080/"
        },
        "id": "iDtyId95jj2_",
        "outputId": "83efa25b-336e-4a1e-c04d-1f68c9406ed9"
      },
      "execution_count": 19,
      "outputs": [
        {
          "output_type": "stream",
          "name": "stdout",
          "text": [
            "Requirement already satisfied: Bio in /usr/local/lib/python3.7/dist-packages (1.3.8)\n",
            "Requirement already satisfied: requests in /usr/local/lib/python3.7/dist-packages (from Bio) (2.23.0)\n",
            "Requirement already satisfied: mygene in /usr/local/lib/python3.7/dist-packages (from Bio) (3.2.2)\n",
            "Requirement already satisfied: biopython>=1.79 in /usr/local/lib/python3.7/dist-packages (from Bio) (1.79)\n",
            "Requirement already satisfied: tqdm in /usr/local/lib/python3.7/dist-packages (from Bio) (4.64.0)\n",
            "Requirement already satisfied: numpy in /usr/local/lib/python3.7/dist-packages (from biopython>=1.79->Bio) (1.21.6)\n",
            "Requirement already satisfied: biothings-client>=0.2.6 in /usr/local/lib/python3.7/dist-packages (from mygene->Bio) (0.2.6)\n",
            "Requirement already satisfied: idna<3,>=2.5 in /usr/local/lib/python3.7/dist-packages (from requests->Bio) (2.10)\n",
            "Requirement already satisfied: certifi>=2017.4.17 in /usr/local/lib/python3.7/dist-packages (from requests->Bio) (2021.10.8)\n",
            "Requirement already satisfied: urllib3!=1.25.0,!=1.25.1,<1.26,>=1.21.1 in /usr/local/lib/python3.7/dist-packages (from requests->Bio) (1.24.3)\n",
            "Requirement already satisfied: chardet<4,>=3.0.2 in /usr/local/lib/python3.7/dist-packages (from requests->Bio) (3.0.4)\n",
            "Collecting bcbio-gff\n",
            "  Downloading bcbio-gff-0.6.9.tar.gz (44 kB)\n",
            "\u001b[K     |████████████████████████████████| 44 kB 2.6 MB/s \n",
            "\u001b[?25hRequirement already satisfied: six in /usr/local/lib/python3.7/dist-packages (from bcbio-gff) (1.15.0)\n",
            "Requirement already satisfied: biopython in /usr/local/lib/python3.7/dist-packages (from bcbio-gff) (1.79)\n",
            "Requirement already satisfied: numpy in /usr/local/lib/python3.7/dist-packages (from biopython->bcbio-gff) (1.21.6)\n",
            "Building wheels for collected packages: bcbio-gff\n",
            "  Building wheel for bcbio-gff (setup.py) ... \u001b[?25l\u001b[?25hdone\n",
            "  Created wheel for bcbio-gff: filename=bcbio_gff-0.6.9-py3-none-any.whl size=15954 sha256=3f3089a1f738a82b7dfb598ce3a81a2dd53a56f1e89f52ff46806ba44a8ad72d\n",
            "  Stored in directory: /root/.cache/pip/wheels/fb/fc/e0/2e7658046d32b794fdfd1e0ec266dc8bae21c1811b18951b6d\n",
            "Successfully built bcbio-gff\n",
            "Installing collected packages: bcbio-gff\n",
            "Successfully installed bcbio-gff-0.6.9\n",
            "Requirement already satisfied: ncbi-acc-download in /usr/local/lib/python3.7/dist-packages (0.2.8)\n",
            "Requirement already satisfied: requests>=2.4.3 in /usr/local/lib/python3.7/dist-packages (from ncbi-acc-download) (2.23.0)\n",
            "Requirement already satisfied: idna<3,>=2.5 in /usr/local/lib/python3.7/dist-packages (from requests>=2.4.3->ncbi-acc-download) (2.10)\n",
            "Requirement already satisfied: urllib3!=1.25.0,!=1.25.1,<1.26,>=1.21.1 in /usr/local/lib/python3.7/dist-packages (from requests>=2.4.3->ncbi-acc-download) (1.24.3)\n",
            "Requirement already satisfied: chardet<4,>=3.0.2 in /usr/local/lib/python3.7/dist-packages (from requests>=2.4.3->ncbi-acc-download) (3.0.4)\n",
            "Requirement already satisfied: certifi>=2017.4.17 in /usr/local/lib/python3.7/dist-packages (from requests>=2.4.3->ncbi-acc-download) (2021.10.8)\n"
          ]
        }
      ]
    },
    {
      "cell_type": "code",
      "execution_count": 2,
      "metadata": {
        "id": "pqUtK0J3aL7O"
      },
      "outputs": [],
      "source": [
        "import pandas as pd\n",
        "import subprocess\n",
        "from Bio import SeqIO\n",
        "from sklearn.model_selection import train_test_split"
      ]
    },
    {
      "cell_type": "code",
      "source": [
        "covid_strains = ['B.1.1.7_sequences.csv', 'P.1_sequences.csv', 'B.1.617.2_sequences.csv', 'BA.1.1_sequences.csv']"
      ],
      "metadata": {
        "id": "bHZT6tibTThF"
      },
      "execution_count": 3,
      "outputs": []
    },
    {
      "cell_type": "code",
      "source": [
        "alpha = pd.read_csv(covid_strains[0])\n",
        "gamma = pd.read_csv(covid_strains[1])\n",
        "delta = pd.read_csv(covid_strains[2])\n",
        "omicron = pd.read_csv(covid_strains[3])"
      ],
      "metadata": {
        "id": "r_7tx1WBT4Qm"
      },
      "execution_count": 10,
      "outputs": []
    },
    {
      "cell_type": "code",
      "source": [
        "shortest = min([alpha.shape[0], gamma.shape[0], delta.shape[0], omicron.shape[0]])\n",
        "print(shortest)"
      ],
      "metadata": {
        "colab": {
          "base_uri": "https://localhost:8080/"
        },
        "id": "kejANgblZDUj",
        "outputId": "9d458f13-7865-4b21-d381-e8cd742c0f48"
      },
      "execution_count": 11,
      "outputs": [
        {
          "output_type": "stream",
          "name": "stdout",
          "text": [
            "3735\n"
          ]
        }
      ]
    },
    {
      "cell_type": "code",
      "source": [
        "alpha_sample = alpha.sample(n=shortest)\n",
        "print(alpha_sample.shape[0])\n",
        "gamma_sample = gamma.sample(n=shortest)\n",
        "print(gamma_sample.shape[0])\n",
        "delta_sample = delta.sample(n=shortest)\n",
        "print(delta_sample.shape[0])\n",
        "omicron_sample = omicron.sample(n=shortest)\n",
        "print(omicron_sample.shape[0])"
      ],
      "metadata": {
        "colab": {
          "base_uri": "https://localhost:8080/"
        },
        "id": "UvnW3PaZcA1d",
        "outputId": "4cbb03a0-322d-4bf3-bdbe-3867f0b5e911"
      },
      "execution_count": 14,
      "outputs": [
        {
          "output_type": "stream",
          "name": "stdout",
          "text": [
            "3735\n",
            "3735\n",
            "3735\n",
            "3735\n"
          ]
        }
      ]
    },
    {
      "cell_type": "code",
      "source": [
        "print(alpha_sample['Country'].unique())\n",
        "print(gamma_sample['Country'].unique())\n",
        "print(delta_sample['Country'].unique())\n",
        "print(omicron_sample['Country'].unique())"
      ],
      "metadata": {
        "colab": {
          "base_uri": "https://localhost:8080/"
        },
        "id": "7QM1y0xSe14h",
        "outputId": "88f51ade-9029-4d2d-d51d-6f373632aa8b"
      },
      "execution_count": 15,
      "outputs": [
        {
          "output_type": "stream",
          "name": "stdout",
          "text": [
            "['USA' 'Togo' 'West Bank' 'Spain' 'Nigeria' 'Japan' 'Iraq' 'Bangladesh'\n",
            " 'Djibouti' 'Pakistan' 'Egypt' 'Saudi Arabia' 'Austria' 'Taiwan' 'Mexico']\n",
            "['USA' 'Paraguay' 'Chile' 'Mexico' 'Dominican Republic' 'Brazil' 'Taiwan'\n",
            " 'Peru' 'Italy']\n",
            "['USA' 'Egypt' 'Bangladesh' 'Mongolia' 'Bahrain' 'Myanmar' 'West Bank'\n",
            " 'Jamaica' 'India' 'Gabon' 'Uzbekistan' 'Pakistan' 'Russia' 'China'\n",
            " 'Denmark' 'Chile' 'Japan']\n",
            "['USA' 'Japan' 'Bahrain' 'France']\n"
          ]
        }
      ]
    },
    {
      "cell_type": "code",
      "source": [
        "from BCBio import GFF\n",
        "in_file = \"GCF_009858895.2_ASM985889v3_genomic.gff\"\n",
        "in_handle = open(in_file)\n",
        "features = []\n",
        "for rec in GFF.parse(in_handle):\n",
        "    features = rec.features\n",
        "in_handle.close()\n",
        "\n",
        "# spike glycoprotein locus tag GU280_gp02\n",
        "for i in range(len(features)):\n",
        "    if \"GU280_gp02\" in features[i].id:\n",
        "      print(features[i])\n",
        "      print(features[i].location)\n",
        "      print(int(features[i].location._start))\n",
        "      print(int(features[i].location._end))"
      ],
      "metadata": {
        "colab": {
          "base_uri": "https://localhost:8080/"
        },
        "id": "l3Cv8cyG-t-k",
        "outputId": "68507757-5aad-491b-e25d-04ead96bdb3f"
      },
      "execution_count": 66,
      "outputs": [
        {
          "output_type": "stream",
          "name": "stdout",
          "text": [
            "type: gene\n",
            "location: [21562:25384](+)\n",
            "id: gene-GU280_gp02\n",
            "qualifiers:\n",
            "    Key: Dbxref, Value: ['GeneID:43740568']\n",
            "    Key: ID, Value: ['gene-GU280_gp02']\n",
            "    Key: Name, Value: ['S']\n",
            "    Key: gbkey, Value: ['Gene']\n",
            "    Key: gene, Value: ['S']\n",
            "    Key: gene_biotype, Value: ['protein_coding']\n",
            "    Key: gene_synonym, Value: ['spike glycoprotein']\n",
            "    Key: locus_tag, Value: ['GU280_gp02']\n",
            "    Key: source, Value: ['RefSeq']\n",
            "\n",
            "[21562:25384](+)\n",
            "21562\n",
            "25384\n"
          ]
        }
      ]
    },
    {
      "cell_type": "code",
      "source": [
        "alpha_sample_accessions = []\n",
        "for i in range(shortest):\n",
        "  alpha_sample_accessions.append(alpha_sample.iloc[i]['Accession'])"
      ],
      "metadata": {
        "id": "8cBPDZI8gsaK"
      },
      "execution_count": 31,
      "outputs": []
    },
    {
      "cell_type": "code",
      "source": [
        "!ncbi-acc-download --help"
      ],
      "metadata": {
        "colab": {
          "base_uri": "https://localhost:8080/"
        },
        "id": "KB02eVCcjmoy",
        "outputId": "0234c4a1-4118-4796-a741-9f33b9bbd6dc"
      },
      "execution_count": 33,
      "outputs": [
        {
          "output_type": "stream",
          "name": "stdout",
          "text": [
            "usage: ncbi-acc-download [-h] [-m {nucleotide,protein}] [--api-key API_KEY]\n",
            "                         [-F {fasta,genbank,featuretable,gff3}] [-o OUT]\n",
            "                         [-p PREFIX] [-g RANGE] [--url] [-v]\n",
            "                         NCBI-accession [NCBI-accession ...]\n",
            "\n",
            "positional arguments:\n",
            "  NCBI-accession\n",
            "\n",
            "optional arguments:\n",
            "  -h, --help            show this help message and exit\n",
            "  -m {nucleotide,protein}, --molecule {nucleotide,protein}\n",
            "                        Molecule type to download. Default: nucleotide\n",
            "  --api-key API_KEY     Specify USER NCBI API key. More info at\n",
            "                        https://www.ncbi.nlm.nih.gov/books/NBK25497/\n",
            "  -F {fasta,genbank,featuretable,gff3}, --format {fasta,genbank,featuretable,gff3}\n",
            "                        File format to download nucleotide sequences in.\n",
            "                        Default: genbank\n",
            "  -o OUT, --out OUT     Single filename to use for the combined output.\n",
            "  -p PREFIX, --prefix PREFIX\n",
            "                        Filename prefix to use for output files instead of\n",
            "                        using the NCBI ID.\n",
            "  -g RANGE, --range RANGE\n",
            "                        region to subset accession. only for single accession\n",
            "  --url                 Instead of downloading the sequences, just print the\n",
            "                        URLs to stdout.\n",
            "  -v, --verbose         Print a progress indicator.\n"
          ]
        }
      ]
    },
    {
      "cell_type": "code",
      "source": [
        "# Test NCBI accession download\n",
        "test = alpha_sample_accessions[0]\n",
        "print(test)"
      ],
      "metadata": {
        "colab": {
          "base_uri": "https://localhost:8080/"
        },
        "id": "uAUkAs_7mGKZ",
        "outputId": "c0c9715f-d26d-4210-fe5c-bc21e0c2f896"
      },
      "execution_count": 40,
      "outputs": [
        {
          "output_type": "stream",
          "name": "stdout",
          "text": [
            "MZ375649.1\n"
          ]
        }
      ]
    },
    {
      "cell_type": "code",
      "source": [
        "!ncbi-acc-download --format fasta $test"
      ],
      "metadata": {
        "id": "M5f4wYb_kS2l"
      },
      "execution_count": 39,
      "outputs": []
    },
    {
      "cell_type": "code",
      "source": [
        "for i in range(3):\n",
        "  subprocess.run([\"ncbi-acc-download\", \"--format\", \"fasta\", alpha_sample_accessions[i]])"
      ],
      "metadata": {
        "id": "WM5QZHm9oOoy"
      },
      "execution_count": 49,
      "outputs": []
    },
    {
      "cell_type": "code",
      "source": [
        "# SeqIO\n",
        "record = SeqIO.read(\"MZ375649.1.fa\", \"fasta\")\n",
        "print(record)  # first record\n",
        "print(len(record.seq))"
      ],
      "metadata": {
        "colab": {
          "base_uri": "https://localhost:8080/"
        },
        "id": "km0c1zm5slUu",
        "outputId": "2e4174db-ad10-4344-bb69-f0ee8da4c522"
      },
      "execution_count": 64,
      "outputs": [
        {
          "output_type": "stream",
          "name": "stdout",
          "text": [
            "ID: MZ375649.1\n",
            "Name: MZ375649.1\n",
            "Description: MZ375649.1 Severe acute respiratory syndrome coronavirus 2 isolate SARS-CoV-2/human/USA/CO-CDC-MMB08714138/2021, complete genome\n",
            "Number of features: 0\n",
            "Seq('TCGATCTCTTGTAGATCTGTTCTCTAAACGAACTTTAAAATCTGTGTGGCTGTC...TGT')\n",
            "29781\n"
          ]
        }
      ]
    },
    {
      "cell_type": "code",
      "source": [
        "record = SeqIO.read(\"MZ375649.1.fa\", \"fasta\")\n",
        "print(record)  # first record\n",
        "print(len(record.seq))"
      ],
      "metadata": {
        "colab": {
          "base_uri": "https://localhost:8080/"
        },
        "id": "-PSe4xjxv6Ar",
        "outputId": "37006425-9ae1-4976-a74e-13521c795054"
      },
      "execution_count": 65,
      "outputs": [
        {
          "output_type": "stream",
          "name": "stdout",
          "text": [
            "ID: MZ375649.1\n",
            "Name: MZ375649.1\n",
            "Description: MZ375649.1 Severe acute respiratory syndrome coronavirus 2 isolate SARS-CoV-2/human/USA/CO-CDC-MMB08714138/2021, complete genome\n",
            "Number of features: 0\n",
            "Seq('TCGATCTCTTGTAGATCTGTTCTCTAAACGAACTTTAAAATCTGTGTGGCTGTC...TGT')\n",
            "29781\n"
          ]
        }
      ]
    },
    {
      "cell_type": "code",
      "source": [
        "record = SeqIO.read(\"MZ002964.1.fa\", \"fasta\")\n",
        "print(record)  # first record\n",
        "print(len(record.seq))"
      ],
      "metadata": {
        "colab": {
          "base_uri": "https://localhost:8080/"
        },
        "id": "vbSUvSRCwFEf",
        "outputId": "d07fe576-baeb-41c9-cdbb-681c01d49ef2"
      },
      "execution_count": 66,
      "outputs": [
        {
          "output_type": "stream",
          "name": "stdout",
          "text": [
            "ID: MZ002964.1\n",
            "Name: MZ002964.1\n",
            "Description: MZ002964.1 Severe acute respiratory syndrome coronavirus 2 isolate SARS-CoV-2/human/USA/NJ-CDC-LC0038715/2021, complete genome\n",
            "Number of features: 0\n",
            "Seq('TAGATCTGTTCTCTAAACGAACTTTAAAATCTGTGTGGCTGTCACTCGGCTGCA...TGA')\n",
            "29695\n"
          ]
        }
      ]
    }
  ]
}