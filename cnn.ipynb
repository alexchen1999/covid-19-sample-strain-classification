{
  "nbformat": 4,
  "nbformat_minor": 0,
  "metadata": {
    "colab": {
      "name": "cnn.ipynb",
      "provenance": [],
      "collapsed_sections": [],
      "machine_shape": "hm",
      "authorship_tag": "ABX9TyPxa+bZqsUnjQvTd+TO22hv",
      "include_colab_link": true
    },
    "kernelspec": {
      "name": "python3",
      "display_name": "Python 3"
    },
    "language_info": {
      "name": "python"
    },
    "gpuClass": "standard"
  },
  "cells": [
    {
      "cell_type": "markdown",
      "metadata": {
        "id": "view-in-github",
        "colab_type": "text"
      },
      "source": [
        "<a href=\"https://colab.research.google.com/github/alexchen1999/covid-19-sample-strain-classification/blob/main/cnn.ipynb\" target=\"_parent\"><img src=\"https://colab.research.google.com/assets/colab-badge.svg\" alt=\"Open In Colab\"/></a>"
      ]
    },
    {
      "cell_type": "code",
      "execution_count": 47,
      "metadata": {
        "id": "aHXhoNPHJZOi"
      },
      "outputs": [],
      "source": [
        "import json\n",
        "import torch\n",
        "import torch.nn as nn\n",
        "from torchvision import datasets\n",
        "from torchvision import transforms\n",
        "import numpy as np\n",
        "import os\n",
        "import torch.nn.functional as F\n",
        "import torch.optim as optim\n",
        "import sys\n",
        "import pandas as pd\n",
        "import re\n",
        "from torch.utils.data import TensorDataset, DataLoader\n",
        "import numpy as np\n",
        "import matplotlib.pyplot as plt\n",
        "from IPython.display import clear_output\n",
        "# from Bio import SeqIO \n",
        "\n",
        "from sklearn.model_selection import train_test_split\n",
        "from sklearn.preprocessing import LabelEncoder\n",
        "\n",
        "device = torch.device(\"cuda:0\" if torch.cuda.is_available() else \"cpu\")"
      ]
    },
    {
      "cell_type": "code",
      "source": [
        "# Specify hyperparameters ?"
      ],
      "metadata": {
        "id": "Q1WFurGXKEAm"
      },
      "execution_count": null,
      "outputs": []
    },
    {
      "cell_type": "code",
      "source": [
        "# Read pandas csv\n",
        "df = pd.read_csv('spike_seq_one_hots_100.csv')\n",
        "df.head()"
      ],
      "metadata": {
        "colab": {
          "base_uri": "https://localhost:8080/",
          "height": 206
        },
        "id": "FuDxzdR8-ymQ",
        "outputId": "0f2eb18a-baa2-4c26-8f67-a371a8174131"
      },
      "execution_count": 48,
      "outputs": [
        {
          "output_type": "execute_result",
          "data": {
            "text/plain": [
              "    Accession                                                Seq    Label\n",
              "0  MZ294442.1  [[0.0, 0.0, 0.0, 1.0], [1.0, 0.0, 0.0, 0.0], [...    Delta\n",
              "1  OM196994.1  [[1.0, 0.0, 0.0, 0.0], [0.0, 0.0, 0.0, 1.0], [...  Omicron\n",
              "2  OK372715.1  [[1.0, 0.0, 0.0, 0.0], [1.0, 0.0, 0.0, 0.0], [...    Gamma\n",
              "3  OM469899.1  [[0.0, 1.0, 0.0, 0.0], [1.0, 0.0, 0.0, 0.0], [...  Omicron\n",
              "4  OM499807.1  [[1.0, 0.0, 0.0, 0.0], [0.0, 1.0, 0.0, 0.0], [...  Omicron"
            ],
            "text/html": [
              "\n",
              "  <div id=\"df-94d07440-839a-478f-a747-e95f207c6152\">\n",
              "    <div class=\"colab-df-container\">\n",
              "      <div>\n",
              "<style scoped>\n",
              "    .dataframe tbody tr th:only-of-type {\n",
              "        vertical-align: middle;\n",
              "    }\n",
              "\n",
              "    .dataframe tbody tr th {\n",
              "        vertical-align: top;\n",
              "    }\n",
              "\n",
              "    .dataframe thead th {\n",
              "        text-align: right;\n",
              "    }\n",
              "</style>\n",
              "<table border=\"1\" class=\"dataframe\">\n",
              "  <thead>\n",
              "    <tr style=\"text-align: right;\">\n",
              "      <th></th>\n",
              "      <th>Accession</th>\n",
              "      <th>Seq</th>\n",
              "      <th>Label</th>\n",
              "    </tr>\n",
              "  </thead>\n",
              "  <tbody>\n",
              "    <tr>\n",
              "      <th>0</th>\n",
              "      <td>MZ294442.1</td>\n",
              "      <td>[[0.0, 0.0, 0.0, 1.0], [1.0, 0.0, 0.0, 0.0], [...</td>\n",
              "      <td>Delta</td>\n",
              "    </tr>\n",
              "    <tr>\n",
              "      <th>1</th>\n",
              "      <td>OM196994.1</td>\n",
              "      <td>[[1.0, 0.0, 0.0, 0.0], [0.0, 0.0, 0.0, 1.0], [...</td>\n",
              "      <td>Omicron</td>\n",
              "    </tr>\n",
              "    <tr>\n",
              "      <th>2</th>\n",
              "      <td>OK372715.1</td>\n",
              "      <td>[[1.0, 0.0, 0.0, 0.0], [1.0, 0.0, 0.0, 0.0], [...</td>\n",
              "      <td>Gamma</td>\n",
              "    </tr>\n",
              "    <tr>\n",
              "      <th>3</th>\n",
              "      <td>OM469899.1</td>\n",
              "      <td>[[0.0, 1.0, 0.0, 0.0], [1.0, 0.0, 0.0, 0.0], [...</td>\n",
              "      <td>Omicron</td>\n",
              "    </tr>\n",
              "    <tr>\n",
              "      <th>4</th>\n",
              "      <td>OM499807.1</td>\n",
              "      <td>[[1.0, 0.0, 0.0, 0.0], [0.0, 1.0, 0.0, 0.0], [...</td>\n",
              "      <td>Omicron</td>\n",
              "    </tr>\n",
              "  </tbody>\n",
              "</table>\n",
              "</div>\n",
              "      <button class=\"colab-df-convert\" onclick=\"convertToInteractive('df-94d07440-839a-478f-a747-e95f207c6152')\"\n",
              "              title=\"Convert this dataframe to an interactive table.\"\n",
              "              style=\"display:none;\">\n",
              "        \n",
              "  <svg xmlns=\"http://www.w3.org/2000/svg\" height=\"24px\"viewBox=\"0 0 24 24\"\n",
              "       width=\"24px\">\n",
              "    <path d=\"M0 0h24v24H0V0z\" fill=\"none\"/>\n",
              "    <path d=\"M18.56 5.44l.94 2.06.94-2.06 2.06-.94-2.06-.94-.94-2.06-.94 2.06-2.06.94zm-11 1L8.5 8.5l.94-2.06 2.06-.94-2.06-.94L8.5 2.5l-.94 2.06-2.06.94zm10 10l.94 2.06.94-2.06 2.06-.94-2.06-.94-.94-2.06-.94 2.06-2.06.94z\"/><path d=\"M17.41 7.96l-1.37-1.37c-.4-.4-.92-.59-1.43-.59-.52 0-1.04.2-1.43.59L10.3 9.45l-7.72 7.72c-.78.78-.78 2.05 0 2.83L4 21.41c.39.39.9.59 1.41.59.51 0 1.02-.2 1.41-.59l7.78-7.78 2.81-2.81c.8-.78.8-2.07 0-2.86zM5.41 20L4 18.59l7.72-7.72 1.47 1.35L5.41 20z\"/>\n",
              "  </svg>\n",
              "      </button>\n",
              "      \n",
              "  <style>\n",
              "    .colab-df-container {\n",
              "      display:flex;\n",
              "      flex-wrap:wrap;\n",
              "      gap: 12px;\n",
              "    }\n",
              "\n",
              "    .colab-df-convert {\n",
              "      background-color: #E8F0FE;\n",
              "      border: none;\n",
              "      border-radius: 50%;\n",
              "      cursor: pointer;\n",
              "      display: none;\n",
              "      fill: #1967D2;\n",
              "      height: 32px;\n",
              "      padding: 0 0 0 0;\n",
              "      width: 32px;\n",
              "    }\n",
              "\n",
              "    .colab-df-convert:hover {\n",
              "      background-color: #E2EBFA;\n",
              "      box-shadow: 0px 1px 2px rgba(60, 64, 67, 0.3), 0px 1px 3px 1px rgba(60, 64, 67, 0.15);\n",
              "      fill: #174EA6;\n",
              "    }\n",
              "\n",
              "    [theme=dark] .colab-df-convert {\n",
              "      background-color: #3B4455;\n",
              "      fill: #D2E3FC;\n",
              "    }\n",
              "\n",
              "    [theme=dark] .colab-df-convert:hover {\n",
              "      background-color: #434B5C;\n",
              "      box-shadow: 0px 1px 3px 1px rgba(0, 0, 0, 0.15);\n",
              "      filter: drop-shadow(0px 1px 2px rgba(0, 0, 0, 0.3));\n",
              "      fill: #FFFFFF;\n",
              "    }\n",
              "  </style>\n",
              "\n",
              "      <script>\n",
              "        const buttonEl =\n",
              "          document.querySelector('#df-94d07440-839a-478f-a747-e95f207c6152 button.colab-df-convert');\n",
              "        buttonEl.style.display =\n",
              "          google.colab.kernel.accessAllowed ? 'block' : 'none';\n",
              "\n",
              "        async function convertToInteractive(key) {\n",
              "          const element = document.querySelector('#df-94d07440-839a-478f-a747-e95f207c6152');\n",
              "          const dataTable =\n",
              "            await google.colab.kernel.invokeFunction('convertToInteractive',\n",
              "                                                     [key], {});\n",
              "          if (!dataTable) return;\n",
              "\n",
              "          const docLinkHtml = 'Like what you see? Visit the ' +\n",
              "            '<a target=\"_blank\" href=https://colab.research.google.com/notebooks/data_table.ipynb>data table notebook</a>'\n",
              "            + ' to learn more about interactive tables.';\n",
              "          element.innerHTML = '';\n",
              "          dataTable['output_type'] = 'display_data';\n",
              "          await google.colab.output.renderOutput(dataTable, element);\n",
              "          const docLink = document.createElement('div');\n",
              "          docLink.innerHTML = docLinkHtml;\n",
              "          element.appendChild(docLink);\n",
              "        }\n",
              "      </script>\n",
              "    </div>\n",
              "  </div>\n",
              "  "
            ]
          },
          "metadata": {},
          "execution_count": 48
        }
      ]
    },
    {
      "cell_type": "code",
      "source": [
        "print(df['Seq'].shape)"
      ],
      "metadata": {
        "colab": {
          "base_uri": "https://localhost:8080/"
        },
        "id": "ql_0RGjbBS7W",
        "outputId": "2304572a-0289-4bea-c756-d66304ede7f3"
      },
      "execution_count": 74,
      "outputs": [
        {
          "output_type": "stream",
          "name": "stdout",
          "text": [
            "(400,)\n"
          ]
        }
      ]
    },
    {
      "cell_type": "code",
      "source": [
        "def str2array(s):\n",
        "    return np.array(json.loads(s))\n",
        "\n",
        "df1=pd.read_csv('spike_seq_one_hots_100.csv', converters={'Seq': str2array})\n",
        "print(df1.iloc[0]['Seq'])\n",
        "print(type(df1.iloc[0]['Seq']))\n",
        "print(df1.iloc[0]['Seq'].shape)\n",
        "print(df1.shape)"
      ],
      "metadata": {
        "colab": {
          "base_uri": "https://localhost:8080/"
        },
        "id": "zhx4dJD0_zDJ",
        "outputId": "eeb34a31-121e-4c90-834a-e3c562dec734"
      },
      "execution_count": 33,
      "outputs": [
        {
          "output_type": "stream",
          "name": "stdout",
          "text": [
            "[[0. 0. 0. 1.]\n",
            " [1. 0. 0. 0.]\n",
            " [0. 1. 0. 0.]\n",
            " ...\n",
            " [0. 0. 0. 1.]\n",
            " [1. 0. 0. 0.]\n",
            " [0. 0. 0. 1.]]\n",
            "<class 'numpy.ndarray'>\n",
            "(3822, 4)\n",
            "(400, 3)\n"
          ]
        }
      ]
    },
    {
      "cell_type": "code",
      "source": [
        "# Train Test Split\n",
        "X = df1['Seq']\n",
        "y = df1.iloc[:, 2:3]\n",
        "\n",
        "train_inputs, test_inputs, train_labels, test_labels = train_test_split(\n",
        "   X, y, test_size=0.1, random_state=42)\n",
        "\n",
        "train_label_encoder = LabelEncoder()\n",
        "train_label_encoder.fit(train_labels)\n",
        "\n",
        "test_label_encoder = LabelEncoder()\n",
        "test_label_encoder.fit(test_labels)\n",
        "\n",
        "train_inputs = train_inputs.to_numpy().tolist()\n",
        "test_inputs = test_inputs.to_numpy().tolist()\n",
        "\n",
        "train_inputs = torch.tensor(train_inputs).type(torch.LongTensor)\n",
        "train_labels = torch.from_numpy(train_label_encoder.transform(train_labels))\n",
        "\n",
        "test_inputs = torch.tensor(test_inputs)\n",
        "test_labels = torch.from_numpy(test_label_encoder.transform(test_labels)).type(torch.LongTensor)\n",
        "\n",
        "# print('train_inputs', train_inputs)\n",
        "print('train_labels', train_labels)\n",
        "\n",
        "print('train_inputs type', train_inputs.dtype)\n",
        "print('train_labels type', train_labels.dtype)\n",
        "print('train_inputs shape', train_inputs.shape)\n",
        "print('train_labels shape', train_labels.shape)\n",
        "\n",
        "# Load data to PyTorch DataLoader\n",
        "train_dataset = TensorDataset(train_inputs, train_labels)\n",
        "test_dataset = TensorDataset(test_inputs, test_labels)\n",
        "train_dataloader = DataLoader(train_dataset, batch_size=40)\n",
        "test_dataloader = DataLoader(test_dataset, batch_size=4)"
      ],
      "metadata": {
        "id": "8yYrsJ9M8iLx",
        "colab": {
          "base_uri": "https://localhost:8080/"
        },
        "outputId": "57000a63-0192-42cc-a950-ec0022c78d89"
      },
      "execution_count": 49,
      "outputs": [
        {
          "output_type": "stream",
          "name": "stderr",
          "text": [
            "/usr/local/lib/python3.7/dist-packages/sklearn/preprocessing/_label.py:98: DataConversionWarning: A column-vector y was passed when a 1d array was expected. Please change the shape of y to (n_samples, ), for example using ravel().\n",
            "  y = column_or_1d(y, warn=True)\n",
            "/usr/local/lib/python3.7/dist-packages/sklearn/preprocessing/_label.py:133: DataConversionWarning: A column-vector y was passed when a 1d array was expected. Please change the shape of y to (n_samples, ), for example using ravel().\n",
            "  y = column_or_1d(y, warn=True)\n"
          ]
        },
        {
          "output_type": "stream",
          "name": "stdout",
          "text": [
            "train_labels tensor([0, 3, 1, 3, 0, 3, 0, 0, 2, 1, 2, 0, 0, 0, 1, 1, 2, 2, 3, 3, 3, 1, 3, 2,\n",
            "        3, 0, 0, 2, 0, 2, 2, 3, 2, 0, 3, 1, 0, 2, 3, 1, 3, 3, 2, 2, 3, 1, 1, 1,\n",
            "        0, 3, 0, 1, 2, 3, 3, 2, 0, 2, 2, 0, 0, 1, 1, 2, 3, 1, 0, 0, 1, 2, 2, 1,\n",
            "        2, 1, 1, 3, 3, 0, 1, 2, 2, 0, 3, 1, 2, 0, 2, 2, 3, 1, 3, 2, 3, 1, 3, 3,\n",
            "        2, 0, 2, 1, 2, 3, 3, 3, 1, 1, 1, 0, 0, 1, 2, 0, 0, 3, 2, 3, 2, 3, 2, 0,\n",
            "        3, 0, 2, 0, 1, 1, 0, 1, 2, 2, 0, 3, 1, 1, 0, 0, 0, 1, 2, 2, 3, 1, 0, 2,\n",
            "        0, 2, 3, 3, 3, 2, 2, 0, 2, 2, 0, 0, 0, 0, 3, 2, 2, 2, 2, 1, 2, 0, 1, 0,\n",
            "        2, 0, 1, 1, 2, 1, 2, 2, 2, 3, 3, 3, 0, 0, 0, 3, 1, 2, 1, 2, 2, 3, 2, 3,\n",
            "        1, 3, 3, 0, 2, 3, 3, 1, 0, 3, 1, 3, 3, 3, 3, 1, 1, 1, 1, 2, 2, 2, 0, 1,\n",
            "        1, 3, 0, 1, 3, 1, 0, 3, 3, 0, 2, 0, 0, 2, 3, 1, 3, 1, 2, 3, 1, 0, 3, 0,\n",
            "        3, 2, 2, 3, 3, 2, 1, 1, 0, 0, 3, 2, 2, 1, 2, 1, 1, 2, 0, 1, 0, 1, 1, 1,\n",
            "        2, 0, 1, 3, 0, 3, 1, 2, 2, 0, 2, 0, 2, 3, 3, 0, 0, 0, 2, 1, 1, 1, 0, 1,\n",
            "        3, 0, 1, 1, 3, 1, 1, 1, 1, 3, 3, 0, 2, 0, 0, 3, 1, 2, 3, 3, 0, 2, 3, 0,\n",
            "        0, 2, 0, 2, 1, 3, 1, 3, 1, 1, 3, 3, 3, 2, 0, 0, 3, 3, 1, 0, 1, 1, 0, 1,\n",
            "        2, 3, 3, 0, 0, 1, 2, 2, 0, 0, 3, 3, 1, 1, 3, 2, 2, 1, 2, 2, 0, 2, 3, 1])\n",
            "train_inputs type torch.int64\n",
            "train_labels type torch.int64\n",
            "train_inputs shape torch.Size([360, 3822, 4])\n",
            "train_labels shape torch.Size([360])\n"
          ]
        }
      ]
    },
    {
      "cell_type": "code",
      "source": [
        "# Training\n",
        "def train(net, dataloader, epochs=1, lr=0.01, momentum=0.9, decay=0.0, verbose=1):\n",
        "  ''' Trains a neural network. Returns a 2d numpy array, where every list \n",
        "  represents the losses per epoch.\n",
        "  '''\n",
        "  net.to(device)\n",
        "  losses_per_epoch = []\n",
        "  criterion = nn.CrossEntropyLoss()\n",
        "  optimizer = optim.SGD(net.parameters(), lr=lr, momentum=momentum, weight_decay=decay)\n",
        "  for epoch in range(epochs):\n",
        "    print('epoch:', epoch)\n",
        "    sum_loss = 0.0\n",
        "    losses = []\n",
        "    for i, batch in enumerate(dataloader):\n",
        "        # get the inputs; data is a list of [inputs, labels]\n",
        "        inputs, labels = batch[0].to(device).long(), batch[1].to(device).long()\n",
        "\n",
        "        # zero the parameter gradients\n",
        "        optimizer.zero_grad()\n",
        "\n",
        "        # forward + backward + optimize \n",
        "        outputs = net(inputs)\n",
        "        loss = criterion(outputs, labels)\n",
        "        loss.backward()\n",
        "        optimizer.step()\n",
        "\n",
        "        # print statistics\n",
        "        losses.append(loss.item())\n",
        "        sum_loss += loss.item()\n",
        "        if i % 100 == 99:    # print every 100 mini-batches\n",
        "            if verbose:\n",
        "              print('[%d, %5d] loss: %.3f' %\n",
        "                  (epoch + 1, i + 1, sum_loss / 100))\n",
        "            sum_loss = 0.0\n",
        "    # print(len(losses))\n",
        "    losses_per_epoch.append(np.mean(losses))\n",
        "  return losses_per_epoch"
      ],
      "metadata": {
        "id": "Ckm4tCiiMU2d"
      },
      "execution_count": 46,
      "outputs": []
    },
    {
      "cell_type": "code",
      "source": [
        ""
      ],
      "metadata": {
        "id": "FEdF4MCPB4Vr"
      },
      "execution_count": null,
      "outputs": []
    },
    {
      "cell_type": "code",
      "source": [
        "# https://www.ncbi.nlm.nih.gov/pmc/articles/PMC4908339/\n",
        "# In-channels should be L * 4 where L is sequence length, 3822\n",
        "# RGB is 3 * w * h\n",
        "\n",
        "# nn.Conv1d() expects the input to be of the shape \n",
        "# [batch_size, input_channels, signal_length]\n",
        "\n",
        "# in our case [40, 4, 3822]\n",
        "\n",
        "ex = [['in_channels_conv1', 'out_channels_conv1', 'in_channels_conv2', 'out_channels_conv2', 'in_channels_fc1', 'kernel_size', 'stride', ('train_acc'), ('test_acc')],\n",
        "      [4, 4, 2, 2, 957, 2, 1, 0, (0.98055555), (0.825)], #1\n",
        "      [4, 4, 2, 2, 955, 4, 1, 0, (0.96944444), (0.85)], #2\n",
        "      [4, 4, 2, 2, 952, 8, 1, 0, (0.977777), (0.875)], #3\n",
        "]\n",
        "i = 1\n",
        "\n",
        "print(ex[i][-3])\n",
        "\n",
        "FEATURE_SIZE = ex[i][0]\n",
        "print(FEATURE_SIZE)\n",
        "\n",
        "class DSC_by_CNN(nn.Module):\n",
        "    def __init__(self, feature_size):\n",
        "\n",
        "\n",
        "        super(DSC_by_CNN, self).__init__()\n",
        "        self.feature_size = feature_size\n",
        "\n",
        "        self.conv1 = nn.Conv1d(in_channels=ex[i][0],\n",
        "                               out_channels=ex[i][1], \n",
        "                               kernel_size=ex[i][5],\n",
        "                               stride = ex[i][6],\n",
        "                               padding = 1)\n",
        "        self.conv2 = nn.Conv1d(in_channels=ex[i][2],\n",
        "                               out_channels=ex[i][3], \n",
        "                               kernel_size=ex[i][5],\n",
        "                               stride = ex[i][6],\n",
        "                               padding = 1)\n",
        "\n",
        "\n",
        "        # Activation\n",
        "        self.act = nn.ReLU()\n",
        "\n",
        "        # Pooling\n",
        "        self.pool = nn.MaxPool2d(3, 2, 1)\n",
        "\n",
        "        # fully connected layer\n",
        "        self.fc1 = nn.Linear(ex[i][4], 100)\n",
        "\n",
        "        # dropout\n",
        "        self.drop = nn.Dropout(p=0.5)\n",
        "\n",
        "    def num_flat_features(self, x):\n",
        "        size = x.size()[1:]  # all dimensions except the batch dimension\n",
        "        num_features = 1\n",
        "        for s in size:\n",
        "            num_features *= s\n",
        "        return num_features        \n",
        "\n",
        "\n",
        "    def forward(self, x):\n",
        "        x = torch.tensor(x).to(torch.float32)\n",
        "\n",
        "        # Permute shuffles dimensions. Do this to satisfy requirments of nn.Conv1d\n",
        "        # Output shape: (b, embedded_dim, max_len)\n",
        "        x = x.permute(0, 2, 1)\n",
        "\n",
        "        # convolutional layer 1\n",
        "        x = self.conv1(x)\n",
        "        x = self.act(x)\n",
        "        x = self.pool(x)\n",
        "\n",
        "        # convolutional layer 2\n",
        "        x = self.conv2(x)\n",
        "        x = self.act(x)\n",
        "        x = self.pool(x)\n",
        "\n",
        "        # flattening\n",
        "        x = x.view(-1, self.num_flat_features(x))\n",
        "\n",
        "        # fully linear layer + dropout\n",
        "        x = self.drop(x)\n",
        "        # x = self.softm(x)\n",
        "        x = self.fc1(x)\n",
        "\n",
        "        return x"
      ],
      "metadata": {
        "colab": {
          "base_uri": "https://localhost:8080/"
        },
        "id": "cwj8pURvJdAV",
        "outputId": "ba0770ff-b141-4bd9-fe55-ccd72974413f"
      },
      "execution_count": 52,
      "outputs": [
        {
          "output_type": "stream",
          "name": "stdout",
          "text": [
            "0\n",
            "4\n"
          ]
        }
      ]
    },
    {
      "cell_type": "code",
      "source": [
        "def accuracy(net, dataloader):\n",
        "    '''\n",
        "    Given a trained neural network and a dataloader, computes the accuracy.\n",
        "    Arguments:\n",
        "        net: a neural network\n",
        "        dataloader: a dataloader\n",
        "    Returns:\n",
        "        fraction of examples classified correctly (float)\n",
        "        number of correct examples (int)\n",
        "        number of total examples (float)\n",
        "    '''\n",
        "    correct = 0\n",
        "    total = 0\n",
        "    with torch.no_grad():\n",
        "        for batch in dataloader:\n",
        "            input, labels = batch[0].to(device), batch[1].to(device)\n",
        "            outputs = net(input)\n",
        "            _, predicted = torch.max(outputs.data, 1)\n",
        "            total += labels.size(0)\n",
        "            correct += (predicted == labels).sum().item()\n",
        "    return correct/total, correct, total\n",
        "\n",
        "def print_eval(net, train_dataloader, test_dataloader):\n",
        "    '''\n",
        "    Given a test and train data loader, prints the test and train accuracy and\n",
        "    the number of examples they got right.\n",
        "    RETURNS\n",
        "        (train_acc, test_acc) results of running accuracy on the two dataloaders\n",
        "    '''\n",
        "    train_acc = accuracy(net, train_dataloader)\n",
        "    test_acc = accuracy(net, test_dataloader)\n",
        "    \n",
        "\n",
        "    print(\"Train accuracy: \" + str(train_acc[0]) + \"\\t(\" + str(train_acc[1]) + \"/\" + str(train_acc[2]) + \")\")\n",
        "    print(\"Test accuracy: \" + str(test_acc[0]) + \"\\t(\" + str(test_acc[1]) + \"/\" + str(test_acc[2]) + \")\")\n",
        "          \n",
        "    return train_acc, test_acc\n",
        "\n",
        "def plot_losses(losses, smooth_val = None, title = \"\"):\n",
        "    '''\n",
        "    Plots the losses per epoch returned by the training function.\n",
        "    Args:\n",
        "        losses: a list of losses returned by train\n",
        "        smooth_val: an optinal integer value if smoothing is desired\n",
        "        title: a title for the graph\n",
        "    '''\n",
        "    # loss = np.mean(losses, axis = 1)\n",
        "    epochs = [i for i in range(1, len(losses) + 1)]\n",
        "    if smooth_val is not None:\n",
        "        losses = smooth(losses, smooth_val)\n",
        "    plt.plot(epochs, losses, marker=\"o\", linestyle=\"dashed\")\n",
        "    plt.xlabel(\"Epoch\")\n",
        "    plt.ylabel(\"Loss\")\n",
        "    plt.title(title)\n",
        "    \n",
        "\n",
        "def smooth(x, size):\n",
        "    '''\n",
        "    Given an array, smooths it by some number size, to make it look less janky.\n",
        "    '''\n",
        "    return np.convolve(x, np.ones(size)/size, mode='same')"
      ],
      "metadata": {
        "id": "oRLnyySprYEd"
      },
      "execution_count": 53,
      "outputs": []
    },
    {
      "cell_type": "code",
      "source": [
        "# Creating net and training\n",
        "\n",
        "net = DSC_by_CNN(FEATURE_SIZE)\n",
        "losses = train(net, train_dataloader, epochs=100, lr=0.01, decay = ex[i][-3])\n",
        "\n",
        "# Evaluation\n",
        "plot_losses(losses, title = \"COVID Dataset: Convolutional Network Loss\")\n",
        "print_eval(net, train_dataloader, test_dataloader)\n",
        "print()"
      ],
      "metadata": {
        "id": "ZVYhnS5D9eFE",
        "colab": {
          "base_uri": "https://localhost:8080/",
          "height": 1000
        },
        "outputId": "bcfc95fe-69fb-4568-df88-63ec7e0aeb61"
      },
      "execution_count": 54,
      "outputs": [
        {
          "output_type": "stream",
          "name": "stdout",
          "text": [
            "epoch: 0\n",
            "epoch: 1\n"
          ]
        },
        {
          "output_type": "stream",
          "name": "stderr",
          "text": [
            "/usr/local/lib/python3.7/dist-packages/ipykernel_launcher.py:62: UserWarning: To copy construct from a tensor, it is recommended to use sourceTensor.clone().detach() or sourceTensor.clone().detach().requires_grad_(True), rather than torch.tensor(sourceTensor).\n"
          ]
        },
        {
          "output_type": "stream",
          "name": "stdout",
          "text": [
            "epoch: 2\n",
            "epoch: 3\n",
            "epoch: 4\n",
            "epoch: 5\n",
            "epoch: 6\n",
            "epoch: 7\n",
            "epoch: 8\n",
            "epoch: 9\n",
            "epoch: 10\n",
            "epoch: 11\n",
            "epoch: 12\n",
            "epoch: 13\n",
            "epoch: 14\n",
            "epoch: 15\n",
            "epoch: 16\n",
            "epoch: 17\n",
            "epoch: 18\n",
            "epoch: 19\n",
            "epoch: 20\n",
            "epoch: 21\n",
            "epoch: 22\n",
            "epoch: 23\n",
            "epoch: 24\n",
            "epoch: 25\n",
            "epoch: 26\n",
            "epoch: 27\n",
            "epoch: 28\n",
            "epoch: 29\n",
            "epoch: 30\n",
            "epoch: 31\n",
            "epoch: 32\n",
            "epoch: 33\n",
            "epoch: 34\n",
            "epoch: 35\n",
            "epoch: 36\n",
            "epoch: 37\n",
            "epoch: 38\n",
            "epoch: 39\n",
            "epoch: 40\n",
            "epoch: 41\n",
            "epoch: 42\n",
            "epoch: 43\n",
            "epoch: 44\n",
            "epoch: 45\n",
            "epoch: 46\n",
            "epoch: 47\n",
            "epoch: 48\n",
            "epoch: 49\n",
            "epoch: 50\n",
            "epoch: 51\n",
            "epoch: 52\n",
            "epoch: 53\n",
            "epoch: 54\n",
            "epoch: 55\n",
            "epoch: 56\n",
            "epoch: 57\n",
            "epoch: 58\n",
            "epoch: 59\n",
            "epoch: 60\n",
            "epoch: 61\n",
            "epoch: 62\n",
            "epoch: 63\n",
            "epoch: 64\n",
            "epoch: 65\n",
            "epoch: 66\n",
            "epoch: 67\n",
            "epoch: 68\n",
            "epoch: 69\n",
            "epoch: 70\n",
            "epoch: 71\n",
            "epoch: 72\n",
            "epoch: 73\n",
            "epoch: 74\n",
            "epoch: 75\n",
            "epoch: 76\n",
            "epoch: 77\n",
            "epoch: 78\n",
            "epoch: 79\n",
            "epoch: 80\n",
            "epoch: 81\n",
            "epoch: 82\n",
            "epoch: 83\n",
            "epoch: 84\n",
            "epoch: 85\n",
            "epoch: 86\n",
            "epoch: 87\n",
            "epoch: 88\n",
            "epoch: 89\n",
            "epoch: 90\n",
            "epoch: 91\n",
            "epoch: 92\n",
            "epoch: 93\n",
            "epoch: 94\n",
            "epoch: 95\n",
            "epoch: 96\n",
            "epoch: 97\n",
            "epoch: 98\n",
            "epoch: 99\n",
            "Train accuracy: 0.9805555555555555\t(353/360)\n",
            "Test accuracy: 0.825\t(33/40)\n",
            "\n"
          ]
        },
        {
          "output_type": "display_data",
          "data": {
            "text/plain": [
              "<Figure size 432x288 with 1 Axes>"
            ],
            "image/png": "[encoded data removed]"
          },
          "metadata": {
            "needs_background": "light"
          }
        }
      ]
    },
    {
      "cell_type": "code",
      "source": [
        "print(X)\n",
        "print(X.loc[0])\n",
        "print(y.loc[0])"
      ],
      "metadata": {
        "colab": {
          "base_uri": "https://localhost:8080/"
        },
        "id": "2HZX_604MBLy",
        "outputId": "ba0c458c-e75a-4908-cc96-f290bf81ed07"
      },
      "execution_count": null,
      "outputs": [
        {
          "output_type": "stream",
          "name": "stdout",
          "text": [
            "0      [[0.0, 0.0, 0.0, 1.0], [1.0, 0.0, 0.0, 0.0], [...\n",
            "1      [[1.0, 0.0, 0.0, 0.0], [0.0, 0.0, 0.0, 1.0], [...\n",
            "2      [[1.0, 0.0, 0.0, 0.0], [1.0, 0.0, 0.0, 0.0], [...\n",
            "3      [[0.0, 1.0, 0.0, 0.0], [1.0, 0.0, 0.0, 0.0], [...\n",
            "4      [[1.0, 0.0, 0.0, 0.0], [0.0, 1.0, 0.0, 0.0], [...\n",
            "                             ...                        \n",
            "395    [[1.0, 0.0, 0.0, 0.0], [0.0, 1.0, 0.0, 0.0], [...\n",
            "396    [[0.0, 0.0, 0.0, 1.0], [0.0, 0.0, 0.0, 1.0], [...\n",
            "397    [[0.0, 1.0, 0.0, 0.0], [1.0, 0.0, 0.0, 0.0], [...\n",
            "398    [[0.0, 1.0, 0.0, 0.0], [1.0, 0.0, 0.0, 0.0], [...\n",
            "399    [[1.0, 0.0, 0.0, 0.0], [0.0, 0.0, 0.0, 1.0], [...\n",
            "Name: Seq, Length: 400, dtype: object\n",
            "[[0. 0. 0. 1.]\n",
            " [1. 0. 0. 0.]\n",
            " [0. 1. 0. 0.]\n",
            " ...\n",
            " [0. 0. 0. 1.]\n",
            " [1. 0. 0. 0.]\n",
            " [0. 0. 0. 1.]]\n",
            "Label    Delta\n",
            "Name: 0, dtype: object\n"
          ]
        }
      ]
    },
    {
      "cell_type": "code",
      "source": [
        "print(train_dataset.__getitem__(0))\n",
        "print(train_dataset.__getitem__(0)[0].dtype)"
      ],
      "metadata": {
        "colab": {
          "base_uri": "https://localhost:8080/"
        },
        "id": "2fpMBTSpQxbm",
        "outputId": "7045d351-1380-497a-f10f-2079f9a4a616"
      },
      "execution_count": null,
      "outputs": [
        {
          "output_type": "stream",
          "name": "stdout",
          "text": [
            "(tensor([[0, 1, 0, 0],\n",
            "        [0, 0, 0, 1],\n",
            "        [0, 0, 0, 1],\n",
            "        ...,\n",
            "        [1, 0, 0, 0],\n",
            "        [1, 0, 0, 0],\n",
            "        [1, 0, 0, 0]]), tensor(0))\n",
            "torch.int64\n"
          ]
        }
      ]
    },
    {
      "cell_type": "code",
      "source": [
        "print(train_dataloader)"
      ],
      "metadata": {
        "colab": {
          "base_uri": "https://localhost:8080/"
        },
        "id": "uvPyjQDgMeFz",
        "outputId": "1916472a-02aa-4b92-d68d-b473660eed43"
      },
      "execution_count": null,
      "outputs": [
        {
          "output_type": "stream",
          "name": "stdout",
          "text": [
            "<torch.utils.data.dataloader.DataLoader object at 0x7fdd282dee50>\n"
          ]
        }
      ]
    },
    {
      "cell_type": "code",
      "source": [
        "ser = pd.Series([0, 1, 0])\n",
        "print(ser.isna())"
      ],
      "metadata": {
        "colab": {
          "base_uri": "https://localhost:8080/"
        },
        "id": "7x0pT7QuvLOA",
        "outputId": "7c1d6499-2880-4216-fc26-966f31026003"
      },
      "execution_count": null,
      "outputs": [
        {
          "output_type": "stream",
          "name": "stdout",
          "text": [
            "0    False\n",
            "1    False\n",
            "2    False\n",
            "dtype: bool\n"
          ]
        }
      ]
    },
    {
      "cell_type": "markdown",
      "source": [
        "# Resources/Errors Encountered:\n",
        "\n",
        "- Load a list of numpy arrays to Pytorch TensorDataset: https://stackoverflow.com/questions/44429199/how-to-load-a-list-of-numpy-arrays-to-pytorch-dataset-loader\n",
        "- https://stackoverflow.com/questions/72538897/runtimeerror-given-groups-1-weight-of-size-6-3-3-3-expected-input4-224/72547977\n",
        "- RuntimeError: Input type (torch.FloatTensor) and weight type (torch.cuda.FloatTensor) should be the same https://stackoverflow.com/questions/59013109/runtimeerror-input-type-torch-floattensor-and-weight-type-torch-cuda-floatte\n",
        "- PyTorch Convolution `in_channels` and `out_channels` meaning? https://stackoverflow.com/questions/56652204/pytorch-convolution-in-channels-and-out-channels-meaning\n",
        "- Torch nn Conv1D Example: https://www.tutorialexample.com/understand-torch-nn-conv1d-with-examples-pytorch-tutorial/\n",
        "- `RuntimeError: Given groups=1, weight of size [15288, 15288, 6], expected input[40, 4, 3822] to have 15288 channels, but got 4 channels instead`\n",
        "- `RuntimeError: expected scalar type Long but found Float`:\n",
        "https://discuss.pytorch.org/t/runtimeerror-expected-scalar-type-long-but-found-float-conv1d/105249"
      ],
      "metadata": {
        "id": "3am7vcBMk7Go"
      }
    },
    {
      "cell_type": "code",
      "source": [
        ""
      ],
      "metadata": {
        "id": "9hc-oNZDk9OF"
      },
      "execution_count": null,
      "outputs": []
    }
  ]
}